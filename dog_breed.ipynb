{
  "nbformat": 4,
  "nbformat_minor": 0,
  "metadata": {
    "colab": {
      "provenance": [],
      "gpuType": "A100",
      "machine_shape": "hm"
    },
    "kernelspec": {
      "name": "python3",
      "display_name": "Python 3"
    },
    "language_info": {
      "name": "python"
    },
    "accelerator": "GPU"
  },
  "cells": [
    {
      "cell_type": "code",
      "execution_count": null,
      "metadata": {
        "id": "0RA1UvyUfLMF"
      },
      "outputs": [],
      "source": [
        "import tensorflow as tf\n",
        "from tensorflow.keras.applications.inception_resnet_v2 import InceptionResNetV2, preprocess_input\n",
        "from tensorflow.keras.preprocessing.image import ImageDataGenerator\n",
        "from tensorflow.keras.layers import Dense, GlobalAveragePooling2D\n",
        "from tensorflow.keras.models import Model\n",
        "from tensorflow.keras.optimizers import SGD\n",
        "import os\n",
        "import matplotlib.pyplot as plt"
      ]
    },
    {
      "cell_type": "code",
      "source": [
        "import kagglehub\n",
        "path = kagglehub.dataset_download(\"jessicali9530/stanford-dogs-dataset\")\n",
        "print(\"Path to dataset files:\", path)\n",
        "\n",
        "# Path variables\n",
        "dataset_path = f\"{path}/images/Images\""
      ],
      "metadata": {
        "colab": {
          "base_uri": "https://localhost:8080/"
        },
        "id": "LfbzOsTkgZs_",
        "outputId": "cc808ddc-3ebe-443e-e3b3-b1432e74e69b"
      },
      "execution_count": null,
      "outputs": [
        {
          "output_type": "stream",
          "name": "stdout",
          "text": [
            "Downloading from https://www.kaggle.com/api/v1/datasets/download/jessicali9530/stanford-dogs-dataset?dataset_version_number=2...\n"
          ]
        },
        {
          "output_type": "stream",
          "name": "stderr",
          "text": [
            "100%|██████████| 750M/750M [00:06<00:00, 130MB/s]"
          ]
        },
        {
          "output_type": "stream",
          "name": "stdout",
          "text": [
            "Extracting files...\n"
          ]
        },
        {
          "output_type": "stream",
          "name": "stderr",
          "text": [
            "\n"
          ]
        },
        {
          "output_type": "stream",
          "name": "stdout",
          "text": [
            "Path to dataset files: /root/.cache/kagglehub/datasets/jessicali9530/stanford-dogs-dataset/versions/2\n"
          ]
        }
      ]
    },
    {
      "cell_type": "code",
      "source": [
        "# Data preprocessing\n",
        "image_size = 299  # Required input size for InceptionResNetV2\n",
        "batch_size = 32\n",
        "\n",
        "datagen = ImageDataGenerator(\n",
        "    preprocessing_function=preprocess_input,\n",
        "    validation_split=0.2  # 20% validation split for train and validation\n",
        ")\n",
        "\n",
        "train_generator = datagen.flow_from_directory(\n",
        "    dataset_path,\n",
        "    target_size=(image_size, image_size),\n",
        "    batch_size=batch_size,\n",
        "    class_mode='categorical',\n",
        "    subset='training',\n",
        "    shuffle=True  # Shuffle data for training\n",
        ")\n",
        "\n",
        "val_generator = datagen.flow_from_directory(\n",
        "    dataset_path,\n",
        "    target_size=(image_size, image_size),\n",
        "    batch_size=batch_size,\n",
        "    class_mode='categorical',\n",
        "    subset='validation'\n",
        ")\n",
        "\n",
        "# For simplicity, we'll use the validation set as the test set in this example.\n",
        "test_generator = val_generator"
      ],
      "metadata": {
        "colab": {
          "base_uri": "https://localhost:8080/"
        },
        "id": "ZrPt1cwYgj2r",
        "outputId": "3f78a09c-e1aa-411d-ee2a-a8b211e45626"
      },
      "execution_count": null,
      "outputs": [
        {
          "output_type": "stream",
          "name": "stdout",
          "text": [
            "Found 16508 images belonging to 120 classes.\n",
            "Found 4072 images belonging to 120 classes.\n"
          ]
        }
      ]
    },
    {
      "cell_type": "code",
      "source": [
        "# Load the InceptionResNetV2 model\n",
        "base_model = InceptionResNetV2(weights='imagenet', include_top=False, input_shape=(image_size, image_size, 3))\n",
        "\n",
        "# Add custom layers\n",
        "x = base_model.output\n",
        "x = GlobalAveragePooling2D()(x)\n",
        "x = Dense(1024, activation='relu')(x)\n",
        "predictions = Dense(len(train_generator.class_indices), activation='softmax')(x)\n",
        "\n",
        "# Create the model\n",
        "model = Model(inputs=base_model.input, outputs=predictions)\n",
        "\n",
        "# Freeze the base model layers\n",
        "for layer in base_model.layers:\n",
        "    layer.trainable = False\n",
        "\n",
        "# Compile the model\n",
        "model.compile(optimizer=SGD(learning_rate=0.001), loss='categorical_crossentropy', metrics=['accuracy'])\n",
        "\n",
        "print(f\"Training samples: {train_generator.samples}\")\n",
        "print(f\"Validation samples: {val_generator.samples}\")\n",
        "print(f\"Batch size: {train_generator.batch_size}\")\n",
        "for batch, labels in train_generator:\n",
        "    print(batch.shape, labels.shape)\n",
        "    break"
      ],
      "metadata": {
        "colab": {
          "base_uri": "https://localhost:8080/"
        },
        "id": "FuWgUVZggsnb",
        "outputId": "f7d7bdbe-3bb5-4213-f29f-23993e9da087"
      },
      "execution_count": null,
      "outputs": [
        {
          "output_type": "stream",
          "name": "stdout",
          "text": [
            "Downloading data from https://storage.googleapis.com/tensorflow/keras-applications/inception_resnet_v2/inception_resnet_v2_weights_tf_dim_ordering_tf_kernels_notop.h5\n",
            "\u001b[1m219055592/219055592\u001b[0m \u001b[32m━━━━━━━━━━━━━━━━━━━━\u001b[0m\u001b[37m\u001b[0m \u001b[1m1s\u001b[0m 0us/step\n",
            "Training samples: 16508\n",
            "Validation samples: 4072\n",
            "Batch size: 32\n",
            "(32, 299, 299, 3) (32, 120)\n"
          ]
        }
      ]
    },
    {
      "cell_type": "code",
      "source": [
        "train_dataset = tf.data.Dataset.from_generator(\n",
        "    lambda: train_generator,\n",
        "    output_signature=(\n",
        "        tf.TensorSpec(shape=(None, 299, 299, 3), dtype=tf.float32),\n",
        "        tf.TensorSpec(shape=(None, len(train_generator.class_indices)), dtype=tf.float32),\n",
        "    )\n",
        ").repeat()  # Ensures infinite looping of the dataset\n",
        "\n",
        "val_dataset = tf.data.Dataset.from_generator(\n",
        "    lambda: val_generator,\n",
        "    output_signature=(\n",
        "        tf.TensorSpec(shape=(None, 299, 299, 3), dtype=tf.float32),\n",
        "        tf.TensorSpec(shape=(None, len(val_generator.class_indices)), dtype=tf.float32),\n",
        "    )\n",
        ").repeat()"
      ],
      "metadata": {
        "id": "k1jJ8huLCuso"
      },
      "execution_count": null,
      "outputs": []
    },
    {
      "cell_type": "code",
      "source": [
        "# Train the model\n",
        "train_steps = train_generator.samples // train_generator.batch_size\n",
        "val_steps = val_generator.samples // val_generator.batch_size\n",
        "\n",
        "print(f\"Steps per epoch (training): {train_steps}\")\n",
        "print(f\"Validation steps: {val_steps}\")"
      ],
      "metadata": {
        "colab": {
          "base_uri": "https://localhost:8080/"
        },
        "id": "pl1uq8VU-_qH",
        "outputId": "576c42c5-52dc-452e-d0f8-93acf7348767"
      },
      "execution_count": null,
      "outputs": [
        {
          "output_type": "stream",
          "name": "stdout",
          "text": [
            "Steps per epoch (training): 515\n",
            "Validation steps: 127\n"
          ]
        }
      ]
    },
    {
      "cell_type": "code",
      "source": [
        "# Train the model\n",
        "history = model.fit(\n",
        "    train_dataset,\n",
        "    steps_per_epoch=train_steps,  # Explicitly set the correct steps\n",
        "    validation_data=val_dataset,\n",
        "    validation_steps=val_steps,\n",
        "    epochs=10,\n",
        "    verbose=1\n",
        ")\n",
        "\n",
        "# Fine-tuning: Unfreeze some layers in the base model and retrain\n",
        "for layer in base_model.layers[:200]:\n",
        "    layer.trainable = False\n",
        "for layer in base_model.layers[200:]:\n",
        "    layer.trainable = True\n",
        "\n",
        "# Recompile the model\n",
        "model.compile(optimizer=SGD(learning_rate=0.0001), loss='categorical_crossentropy', metrics=['accuracy'])\n",
        "\n",
        "# Continue training\n",
        "fine_tune_epochs = 10\n",
        "total_epochs = 10 + fine_tune_epochs\n",
        "\n",
        "history_fine_tune = model.fit(\n",
        "    train_dataset,\n",
        "    steps_per_epoch=train_steps,  # Same steps as initial training\n",
        "    validation_data=val_dataset,\n",
        "    validation_steps=val_steps,\n",
        "    epochs=total_epochs,\n",
        "    initial_epoch=10\n",
        ")\n"
      ],
      "metadata": {
        "colab": {
          "base_uri": "https://localhost:8080/"
        },
        "id": "3a9RqRvVhBG0",
        "outputId": "a0a40f59-9d1f-4c72-82a3-f3babb98b47b"
      },
      "execution_count": null,
      "outputs": [
        {
          "output_type": "stream",
          "name": "stdout",
          "text": [
            "Epoch 1/10\n",
            "\u001b[1m515/515\u001b[0m \u001b[32m━━━━━━━━━━━━━━━━━━━━\u001b[0m\u001b[37m\u001b[0m \u001b[1m118s\u001b[0m 166ms/step - accuracy: 0.0235 - loss: 4.7342 - val_accuracy: 0.1309 - val_loss: 4.4876\n",
            "Epoch 2/10\n",
            "\u001b[1m515/515\u001b[0m \u001b[32m━━━━━━━━━━━━━━━━━━━━\u001b[0m\u001b[37m\u001b[0m \u001b[1m68s\u001b[0m 133ms/step - accuracy: 0.2012 - loss: 4.4013 - val_accuracy: 0.4871 - val_loss: 4.1560\n",
            "Epoch 3/10\n",
            "\u001b[1m515/515\u001b[0m \u001b[32m━━━━━━━━━━━━━━━━━━━━\u001b[0m\u001b[37m\u001b[0m \u001b[1m55s\u001b[0m 108ms/step - accuracy: 0.5771 - loss: 4.0637 - val_accuracy: 0.7557 - val_loss: 3.8087\n",
            "Epoch 4/10\n",
            "\u001b[1m515/515\u001b[0m \u001b[32m━━━━━━━━━━━━━━━━━━━━\u001b[0m\u001b[37m\u001b[0m \u001b[1m55s\u001b[0m 106ms/step - accuracy: 0.7782 - loss: 3.7169 - val_accuracy: 0.8290 - val_loss: 3.4458\n",
            "Epoch 5/10\n",
            "\u001b[1m515/515\u001b[0m \u001b[32m━━━━━━━━━━━━━━━━━━━━\u001b[0m\u001b[37m\u001b[0m \u001b[1m54s\u001b[0m 104ms/step - accuracy: 0.8416 - loss: 3.3465 - val_accuracy: 0.8601 - val_loss: 3.0621\n",
            "Epoch 6/10\n",
            "\u001b[1m515/515\u001b[0m \u001b[32m━━━━━━━━━━━━━━━━━━━━\u001b[0m\u001b[37m\u001b[0m \u001b[1m52s\u001b[0m 101ms/step - accuracy: 0.8660 - loss: 2.9637 - val_accuracy: 0.8733 - val_loss: 2.6834\n",
            "Epoch 7/10\n",
            "\u001b[1m515/515\u001b[0m \u001b[32m━━━━━━━━━━━━━━━━━━━━\u001b[0m\u001b[37m\u001b[0m \u001b[1m47s\u001b[0m 91ms/step - accuracy: 0.8762 - loss: 2.5888 - val_accuracy: 0.8842 - val_loss: 2.3066\n",
            "Epoch 8/10\n",
            "\u001b[1m515/515\u001b[0m \u001b[32m━━━━━━━━━━━━━━━━━━━━\u001b[0m\u001b[37m\u001b[0m \u001b[1m51s\u001b[0m 98ms/step - accuracy: 0.8873 - loss: 2.2126 - val_accuracy: 0.8884 - val_loss: 1.9639\n",
            "Epoch 9/10\n",
            "\u001b[1m515/515\u001b[0m \u001b[32m━━━━━━━━━━━━━━━━━━━━\u001b[0m\u001b[37m\u001b[0m \u001b[1m49s\u001b[0m 95ms/step - accuracy: 0.8974 - loss: 1.8693 - val_accuracy: 0.9002 - val_loss: 1.6448\n",
            "Epoch 10/10\n",
            "\u001b[1m515/515\u001b[0m \u001b[32m━━━━━━━━━━━━━━━━━━━━\u001b[0m\u001b[37m\u001b[0m \u001b[1m47s\u001b[0m 91ms/step - accuracy: 0.9021 - loss: 1.5700 - val_accuracy: 0.9022 - val_loss: 1.3854\n",
            "Epoch 11/20\n",
            "\u001b[1m515/515\u001b[0m \u001b[32m━━━━━━━━━━━━━━━━━━━━\u001b[0m\u001b[37m\u001b[0m \u001b[1m208s\u001b[0m 245ms/step - accuracy: 0.8359 - loss: 1.4435 - val_accuracy: 0.8896 - val_loss: 0.6835\n",
            "Epoch 12/20\n",
            "\u001b[1m515/515\u001b[0m \u001b[32m━━━━━━━━━━━━━━━━━━━━\u001b[0m\u001b[37m\u001b[0m \u001b[1m65s\u001b[0m 127ms/step - accuracy: 0.8741 - loss: 0.8033 - val_accuracy: 0.8866 - val_loss: 0.5225\n",
            "Epoch 13/20\n",
            "\u001b[1m515/515\u001b[0m \u001b[32m━━━━━━━━━━━━━━━━━━━━\u001b[0m\u001b[37m\u001b[0m \u001b[1m65s\u001b[0m 126ms/step - accuracy: 0.8858 - loss: 0.6060 - val_accuracy: 0.8993 - val_loss: 0.4323\n",
            "Epoch 14/20\n",
            "\u001b[1m515/515\u001b[0m \u001b[32m━━━━━━━━━━━━━━━━━━━━\u001b[0m\u001b[37m\u001b[0m \u001b[1m64s\u001b[0m 125ms/step - accuracy: 0.8892 - loss: 0.5098 - val_accuracy: 0.8978 - val_loss: 0.4025\n",
            "Epoch 15/20\n",
            "\u001b[1m515/515\u001b[0m \u001b[32m━━━━━━━━━━━━━━━━━━━━\u001b[0m\u001b[37m\u001b[0m \u001b[1m63s\u001b[0m 122ms/step - accuracy: 0.8948 - loss: 0.4616 - val_accuracy: 0.9015 - val_loss: 0.3660\n",
            "Epoch 16/20\n",
            "\u001b[1m515/515\u001b[0m \u001b[32m━━━━━━━━━━━━━━━━━━━━\u001b[0m\u001b[37m\u001b[0m \u001b[1m60s\u001b[0m 117ms/step - accuracy: 0.9104 - loss: 0.3857 - val_accuracy: 0.9037 - val_loss: 0.3453\n",
            "Epoch 17/20\n",
            "\u001b[1m515/515\u001b[0m \u001b[32m━━━━━━━━━━━━━━━━━━━━\u001b[0m\u001b[37m\u001b[0m \u001b[1m60s\u001b[0m 117ms/step - accuracy: 0.9101 - loss: 0.3648 - val_accuracy: 0.8950 - val_loss: 0.3585\n",
            "Epoch 18/20\n",
            "\u001b[1m515/515\u001b[0m \u001b[32m━━━━━━━━━━━━━━━━━━━━\u001b[0m\u001b[37m\u001b[0m \u001b[1m60s\u001b[0m 117ms/step - accuracy: 0.9199 - loss: 0.3182 - val_accuracy: 0.9089 - val_loss: 0.3249\n",
            "Epoch 19/20\n",
            "\u001b[1m515/515\u001b[0m \u001b[32m━━━━━━━━━━━━━━━━━━━━\u001b[0m\u001b[37m\u001b[0m \u001b[1m61s\u001b[0m 118ms/step - accuracy: 0.9200 - loss: 0.3155 - val_accuracy: 0.9000 - val_loss: 0.3407\n",
            "Epoch 20/20\n",
            "\u001b[1m515/515\u001b[0m \u001b[32m━━━━━━━━━━━━━━━━━━━━\u001b[0m\u001b[37m\u001b[0m \u001b[1m60s\u001b[0m 117ms/step - accuracy: 0.9262 - loss: 0.2841 - val_accuracy: 0.9077 - val_loss: 0.3103\n"
          ]
        }
      ]
    },
    {
      "cell_type": "code",
      "source": [
        "# print(history.history['accuracy'])"
      ],
      "metadata": {
        "id": "oTolAwaRujPU"
      },
      "execution_count": null,
      "outputs": []
    },
    {
      "cell_type": "code",
      "source": [
        "acc        = history_fine_tune.history['accuracy']\n",
        "val_acc    = history_fine_tune.history['val_accuracy']\n",
        "loss       = history_fine_tune.history['loss']\n",
        "val_loss   = history_fine_tune.history['val_loss']\n",
        "num_epochs = range(len(acc))\n",
        "\n",
        "# Plot the Training and Test accuracy over all the epochs\n",
        "fig1, ax1 = plt.subplots(1, 2, figsize = (10, 6))\n",
        "fig1.suptitle('InceptionResNetV2 Transfer Learning Model', c = 'k', fontsize = '15')\n",
        "\n",
        "ax1[0].plot(acc, 'b-', label = 'Train Accuracy')\n",
        "ax1[0].plot(val_acc, 'g-', label = 'Validation Accuracy')\n",
        "ax1[0].set_title('Accuracy')\n",
        "ax1[0].legend()\n",
        "ax1[0].set_xlabel('Epochs')\n",
        "ax1[0].set_ylabel('Accuracy')\n",
        "ax1[0].spines['right'].set_visible(False)\n",
        "ax1[0].spines['top'].set_visible(False)\n",
        "\n",
        "ax1[1].plot(loss, 'b-', label = 'Train Loss')\n",
        "ax1[1].plot(val_loss, 'g-', label = 'Validation Loss')\n",
        "ax1[1].set_title('Loss')\n",
        "ax1[1].legend()\n",
        "ax1[1].set_xlabel('Epochs')\n",
        "ax1[1].set_ylabel('Loss')\n",
        "ax1[1].spines['right'].set_visible(False)\n",
        "ax1[1].spines['top'].set_visible(False)"
      ],
      "metadata": {
        "colab": {
          "base_uri": "https://localhost:8080/",
          "height": 602
        },
        "id": "GO0BgsXAnBoY",
        "outputId": "69811c36-e160-4db0-bc2e-147800f549d6"
      },
      "execution_count": null,
      "outputs": [
        {
          "output_type": "display_data",
          "data": {
            "text/plain": [
              "<Figure size 1000x600 with 2 Axes>"
            ],
            "image/png": "[encoded data removed]"
          },
          "metadata": {}
        }
      ]
    },
    {
      "cell_type": "code",
      "source": [
        "# # Evaluate the model on validation data\n",
        "# loss, accuracy = model.evaluate(val_generator, steps=val_steps)\n",
        "# print(f\"Validation Accuracy: {accuracy:.2f}\")\n",
        "\n",
        "# # Plot training and validation accuracy\n",
        "# plt.figure()\n",
        "# plt.plot(history.history['accuracy'] + history_fine_tune.history['accuracy'], label='Training Accuracy')\n",
        "# plt.plot(history.history['val_accuracy'] + history_fine_tune.history['val_accuracy'], label='Validation Accuracy')\n",
        "# plt.xlabel('Epochs')\n",
        "# plt.ylabel('Accuracy')\n",
        "# plt.legend()\n",
        "# plt.title('Training and Validation Accuracy')\n",
        "# plt.show()"
      ],
      "metadata": {
        "id": "Kq5pbp-jhCYc"
      },
      "execution_count": null,
      "outputs": []
    },
    {
      "cell_type": "code",
      "source": [
        "model.save('breed_model.keras')\n",
        "#model.save_weights('breed_model_weights.weights.h5')"
      ],
      "metadata": {
        "id": "xfi3OWmL_wVD"
      },
      "execution_count": null,
      "outputs": []
    },
    {
      "cell_type": "code",
      "source": [
        "print(\"Standalone Keras Version:\", tf.keras.__version__)\n",
        "print(\"TensorFlow Keras Version:\", tf.keras.__version__)\n",
        "print(\"TensorFlow Version:\", tf.__version__)"
      ],
      "metadata": {
        "colab": {
          "base_uri": "https://localhost:8080/"
        },
        "id": "kUV_FbqFm857",
        "outputId": "47610c10-ff7b-4eb5-9c4e-9f3c7450c2ab"
      },
      "execution_count": null,
      "outputs": [
        {
          "output_type": "stream",
          "name": "stdout",
          "text": [
            "Standalone Keras Version: 3.5.0\n",
            "TensorFlow Keras Version: 3.5.0\n",
            "TensorFlow Version: 2.17.1\n"
          ]
        }
      ]
    },
    {
      "cell_type": "code",
      "source": [
        "breed_classes = sorted(\n",
        "    [d for d in os.listdir(dataset_path) if os.path.isdir(os.path.join(dataset_path, d))],\n",
        "    key=lambda d: os.path.getmtime(os.path.join(dataset_path, d)),\n",
        "    reverse=True  # Set to True for most recently modified first\n",
        ")\n",
        "\n",
        "# Print the class names sorted by modification date\n",
        "breed_classes.reverse()\n",
        "print(breed_classes)"
      ],
      "metadata": {
        "colab": {
          "base_uri": "https://localhost:8080/"
        },
        "id": "1Eess4WwvLnN",
        "outputId": "5dab9a0d-454e-4490-f3e7-435c03217837"
      },
      "execution_count": null,
      "outputs": [
        {
          "output_type": "stream",
          "name": "stdout",
          "text": [
            "['n02085620-Chihuahua', 'n02085782-Japanese_spaniel', 'n02085936-Maltese_dog', 'n02086079-Pekinese', 'n02086240-Shih-Tzu', 'n02086646-Blenheim_spaniel', 'n02086910-papillon', 'n02087046-toy_terrier', 'n02087394-Rhodesian_ridgeback', 'n02088094-Afghan_hound', 'n02088238-basset', 'n02088364-beagle', 'n02088466-bloodhound', 'n02088632-bluetick', 'n02089078-black-and-tan_coonhound', 'n02089867-Walker_hound', 'n02089973-English_foxhound', 'n02090379-redbone', 'n02090622-borzoi', 'n02090721-Irish_wolfhound', 'n02091032-Italian_greyhound', 'n02091134-whippet', 'n02091244-Ibizan_hound', 'n02091467-Norwegian_elkhound', 'n02091635-otterhound', 'n02091831-Saluki', 'n02092002-Scottish_deerhound', 'n02092339-Weimaraner', 'n02093256-Staffordshire_bullterrier', 'n02093428-American_Staffordshire_terrier', 'n02093647-Bedlington_terrier', 'n02093754-Border_terrier', 'n02093859-Kerry_blue_terrier', 'n02093991-Irish_terrier', 'n02094114-Norfolk_terrier', 'n02094258-Norwich_terrier', 'n02094433-Yorkshire_terrier', 'n02095314-wire-haired_fox_terrier', 'n02095570-Lakeland_terrier', 'n02095889-Sealyham_terrier', 'n02096051-Airedale', 'n02096177-cairn', 'n02096294-Australian_terrier', 'n02096437-Dandie_Dinmont', 'n02096585-Boston_bull', 'n02097047-miniature_schnauzer', 'n02097130-giant_schnauzer', 'n02097209-standard_schnauzer', 'n02097298-Scotch_terrier', 'n02097474-Tibetan_terrier', 'n02097658-silky_terrier', 'n02098105-soft-coated_wheaten_terrier', 'n02098286-West_Highland_white_terrier', 'n02098413-Lhasa', 'n02099267-flat-coated_retriever', 'n02099429-curly-coated_retriever', 'n02099601-golden_retriever', 'n02099712-Labrador_retriever', 'n02099849-Chesapeake_Bay_retriever', 'n02100236-German_short-haired_pointer', 'n02100583-vizsla', 'n02100735-English_setter', 'n02100877-Irish_setter', 'n02101006-Gordon_setter', 'n02101388-Brittany_spaniel', 'n02101556-clumber', 'n02102040-English_springer', 'n02102177-Welsh_springer_spaniel', 'n02102318-cocker_spaniel', 'n02102480-Sussex_spaniel', 'n02102973-Irish_water_spaniel', 'n02104029-kuvasz', 'n02104365-schipperke', 'n02105056-groenendael', 'n02105162-malinois', 'n02105251-briard', 'n02105412-kelpie', 'n02105505-komondor', 'n02105641-Old_English_sheepdog', 'n02105855-Shetland_sheepdog', 'n02106030-collie', 'n02106166-Border_collie', 'n02106382-Bouvier_des_Flandres', 'n02106550-Rottweiler', 'n02106662-German_shepherd', 'n02107142-Doberman', 'n02107312-miniature_pinscher', 'n02107574-Greater_Swiss_Mountain_dog', 'n02107683-Bernese_mountain_dog', 'n02107908-Appenzeller', 'n02108000-EntleBucher', 'n02108089-boxer', 'n02108422-bull_mastiff', 'n02108551-Tibetan_mastiff', 'n02108915-French_bulldog', 'n02109047-Great_Dane', 'n02109525-Saint_Bernard', 'n02109961-Eskimo_dog', 'n02110063-malamute', 'n02110185-Siberian_husky', 'n02110627-affenpinscher', 'n02110806-basenji', 'n02110958-pug', 'n02111129-Leonberg', 'n02111277-Newfoundland', 'n02111500-Great_Pyrenees', 'n02111889-Samoyed', 'n02112018-Pomeranian', 'n02112137-chow', 'n02112350-keeshond', 'n02112706-Brabancon_griffon', 'n02113023-Pembroke', 'n02113186-Cardigan', 'n02113624-toy_poodle', 'n02113712-miniature_poodle', 'n02113799-standard_poodle', 'n02113978-Mexican_hairless', 'n02115641-dingo', 'n02115913-dhole', 'n02116738-African_hunting_dog']\n"
          ]
        }
      ]
    },
    {
      "cell_type": "code",
      "source": [],
      "metadata": {
        "id": "ZiEy6QpKzvmB"
      },
      "execution_count": null,
      "outputs": []
    }
  ]
}